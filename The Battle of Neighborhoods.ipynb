In [39]:import pandas as pd
        import numpy as np

In [40]:print('Hello Capstone Project Course!')
